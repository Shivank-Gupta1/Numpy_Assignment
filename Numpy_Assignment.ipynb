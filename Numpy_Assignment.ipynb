{
 "cells": [
  {
   "cell_type": "code",
   "execution_count": 1,
   "id": "df9a57f2",
   "metadata": {},
   "outputs": [],
   "source": [
    "# 1. What is a Python library? Why do we use Python libraries?"
   ]
  },
  {
   "cell_type": "code",
   "execution_count": null,
   "id": "ebd482a9",
   "metadata": {},
   "outputs": [],
   "source": [
    "A Python library is a collection of pre-written code that provides functionality for various tasks.\n",
    "We use python libraries for Code Reusability, Efficiency and Productivity & Time saving."
   ]
  },
  {
   "cell_type": "code",
   "execution_count": null,
   "id": "291575c3",
   "metadata": {},
   "outputs": [],
   "source": [
    "#2. What is the difference between Numpy array and List?"
   ]
  },
  {
   "cell_type": "code",
   "execution_count": null,
   "id": "e219d2a8",
   "metadata": {},
   "outputs": [],
   "source": [
    "Numpy array are faster and have restrictions of having homogeneity of the objects while lists can have multiple type of data."
   ]
  },
  {
   "cell_type": "code",
   "execution_count": null,
   "id": "d2ca119b",
   "metadata": {},
   "outputs": [],
   "source": []
  },
  {
   "cell_type": "code",
   "execution_count": null,
   "id": "af0243f3",
   "metadata": {},
   "outputs": [],
   "source": [
    "#3. Find the shape, size and dimension of the following array?"
   ]
  },
  {
   "cell_type": "code",
   "execution_count": null,
   "id": "23c01efa",
   "metadata": {},
   "outputs": [],
   "source": [
    "[[1,2,3,4]\n",
    "[5,6,7,8]\n",
    "[9,10,11,12]]"
   ]
  },
  {
   "cell_type": "code",
   "execution_count": 4,
   "id": "c16b04a7",
   "metadata": {},
   "outputs": [],
   "source": [
    "import numpy as np"
   ]
  },
  {
   "cell_type": "code",
   "execution_count": 7,
   "id": "dc26377d",
   "metadata": {},
   "outputs": [],
   "source": [
    "A=np.array([[1,2,3,4],[5,6,7,8],[9,10,11,12]])"
   ]
  },
  {
   "cell_type": "code",
   "execution_count": 10,
   "id": "bbc54e46",
   "metadata": {},
   "outputs": [
    {
     "data": {
      "text/plain": [
       "(3, 4)"
      ]
     },
     "execution_count": 10,
     "metadata": {},
     "output_type": "execute_result"
    }
   ],
   "source": [
    "A.shape # Shape"
   ]
  },
  {
   "cell_type": "code",
   "execution_count": 11,
   "id": "12123090",
   "metadata": {},
   "outputs": [
    {
     "data": {
      "text/plain": [
       "12"
      ]
     },
     "execution_count": 11,
     "metadata": {},
     "output_type": "execute_result"
    }
   ],
   "source": [
    "A.size  # Size"
   ]
  },
  {
   "cell_type": "code",
   "execution_count": 12,
   "id": "b2784176",
   "metadata": {},
   "outputs": [
    {
     "data": {
      "text/plain": [
       "2"
      ]
     },
     "execution_count": 12,
     "metadata": {},
     "output_type": "execute_result"
    }
   ],
   "source": [
    "A.ndim  # Dimension"
   ]
  },
  {
   "cell_type": "code",
   "execution_count": null,
   "id": "932d21e0",
   "metadata": {},
   "outputs": [],
   "source": []
  },
  {
   "cell_type": "code",
   "execution_count": null,
   "id": "00061bd8",
   "metadata": {},
   "outputs": [],
   "source": [
    "#4. Write python code to access the first row of the following array?"
   ]
  },
  {
   "cell_type": "code",
   "execution_count": 14,
   "id": "fcc71431",
   "metadata": {},
   "outputs": [],
   "source": [
    "A=np.array([[1,2,3,4],[5,6,7,8],[9,10,11,12]])"
   ]
  },
  {
   "cell_type": "code",
   "execution_count": 23,
   "id": "21971819",
   "metadata": {},
   "outputs": [
    {
     "data": {
      "text/plain": [
       "array([1, 2, 3, 4])"
      ]
     },
     "execution_count": 23,
     "metadata": {},
     "output_type": "execute_result"
    }
   ],
   "source": [
    "A[0]  ## First Row"
   ]
  },
  {
   "cell_type": "code",
   "execution_count": null,
   "id": "7c018523",
   "metadata": {},
   "outputs": [],
   "source": []
  },
  {
   "cell_type": "code",
   "execution_count": 29,
   "id": "2a5e8e66",
   "metadata": {},
   "outputs": [],
   "source": [
    "#5. How do you access the element at the third row and fourth column from the given numpy array?"
   ]
  },
  {
   "cell_type": "code",
   "execution_count": 25,
   "id": "95dc06d1",
   "metadata": {},
   "outputs": [],
   "source": [
    "A=np.array([[1,2,3,4],[5,6,7,8],[9,10,11,12]])"
   ]
  },
  {
   "cell_type": "code",
   "execution_count": 28,
   "id": "7d1f7699",
   "metadata": {},
   "outputs": [
    {
     "data": {
      "text/plain": [
       "12"
      ]
     },
     "execution_count": 28,
     "metadata": {},
     "output_type": "execute_result"
    }
   ],
   "source": [
    "A[2,3] ## 3rd Row & 4th Column Element"
   ]
  },
  {
   "cell_type": "code",
   "execution_count": 30,
   "id": "497d2199",
   "metadata": {},
   "outputs": [],
   "source": [
    "#6.Write code to extract all odd-indexed elements from the given numpy array?"
   ]
  },
  {
   "cell_type": "code",
   "execution_count": 31,
   "id": "cb86df79",
   "metadata": {},
   "outputs": [],
   "source": []
  },
  {
   "cell_type": "code",
   "execution_count": 7,
   "id": "fe092119",
   "metadata": {},
   "outputs": [
    {
     "name": "stdout",
     "output_type": "stream",
     "text": [
      "Original array:\n",
      "[[ 1  2  3  4]\n",
      " [ 5  6  7  8]\n",
      " [ 9 10 11 12]]\n",
      "\n",
      "Odd-indexed elements:\n",
      "[[6 8]]\n"
     ]
    }
   ],
   "source": [
    "array = np.array([[1, 2, 3, 4], \n",
    "                  [5, 6, 7, 8], \n",
    "                  [9, 10, 11, 12]])\n",
    "\n",
    "odd_indexed_elements = array[1::2, 1::2]\n",
    "\n",
    "print(\"Original array:\")\n",
    "print(array)\n",
    "print(\"\\nOdd-indexed elements:\")\n",
    "print(odd_indexed_elements)"
   ]
  },
  {
   "cell_type": "code",
   "execution_count": null,
   "id": "6f76e93a",
   "metadata": {},
   "outputs": [],
   "source": []
  },
  {
   "cell_type": "code",
   "execution_count": 9,
   "id": "47db89c6",
   "metadata": {},
   "outputs": [],
   "source": [
    "#7. How can you generate a random 3x3 matrix with values between 0 and 1?"
   ]
  },
  {
   "cell_type": "code",
   "execution_count": 10,
   "id": "e9dcb3a8",
   "metadata": {},
   "outputs": [],
   "source": [
    "random_matrix=np.random.rand(3,3)"
   ]
  },
  {
   "cell_type": "code",
   "execution_count": 12,
   "id": "15d3523c",
   "metadata": {},
   "outputs": [
    {
     "data": {
      "text/plain": [
       "array([[0.27099783, 0.10418987, 0.60485532],\n",
       "       [0.76377797, 0.81886364, 0.65030463],\n",
       "       [0.44430579, 0.20492774, 0.0653465 ]])"
      ]
     },
     "execution_count": 12,
     "metadata": {},
     "output_type": "execute_result"
    }
   ],
   "source": [
    "random_matrix"
   ]
  },
  {
   "cell_type": "code",
   "execution_count": null,
   "id": "8c87a7dd",
   "metadata": {},
   "outputs": [],
   "source": []
  },
  {
   "cell_type": "code",
   "execution_count": 13,
   "id": "af7a756c",
   "metadata": {},
   "outputs": [],
   "source": [
    "#8.Describe the difference between np.random.rand and np.random.randn?"
   ]
  },
  {
   "cell_type": "raw",
   "id": "56317e45",
   "metadata": {},
   "source": [
    "np.random.rand  - Generates random numbers from a uniform distribution in the range [0,1].\n",
    "np.random.randn - Generates random numbers from a standard normal distribution (Gaussian distribution with mean 0 and standard deviation 1)."
   ]
  },
  {
   "cell_type": "code",
   "execution_count": null,
   "id": "32530930",
   "metadata": {},
   "outputs": [],
   "source": []
  },
  {
   "cell_type": "code",
   "execution_count": 14,
   "id": "ff0f7c59",
   "metadata": {},
   "outputs": [],
   "source": [
    "#9.Write code to increase the dimension of the following array?"
   ]
  },
  {
   "cell_type": "code",
   "execution_count": 33,
   "id": "30377c7f",
   "metadata": {},
   "outputs": [],
   "source": [
    "A=np.array([[1,2,3,4],[5,6,7,8],[9,10,11,12]])"
   ]
  },
  {
   "cell_type": "code",
   "execution_count": 34,
   "id": "8146e405",
   "metadata": {},
   "outputs": [],
   "source": [
    "increased_dim_3 = A[np.newaxis, :]\n",
    "increased_dim_4 = A[: , np.newaxis]"
   ]
  },
  {
   "cell_type": "code",
   "execution_count": 36,
   "id": "4d840856",
   "metadata": {},
   "outputs": [],
   "source": [
    "increased_dim_1 = np.expand_dims(array, axis=0)\n",
    "increased_dim_2 = np.expand_dims(array, axis=1) "
   ]
  },
  {
   "cell_type": "code",
   "execution_count": 38,
   "id": "fbbf89fa",
   "metadata": {},
   "outputs": [
    {
     "data": {
      "text/plain": [
       "array([[[ 1,  2,  3,  4]],\n",
       "\n",
       "       [[ 5,  6,  7,  8]],\n",
       "\n",
       "       [[ 9, 10, 11, 12]]])"
      ]
     },
     "execution_count": 38,
     "metadata": {},
     "output_type": "execute_result"
    }
   ],
   "source": [
    "increased_dim_2"
   ]
  },
  {
   "cell_type": "code",
   "execution_count": null,
   "id": "a0534333",
   "metadata": {},
   "outputs": [],
   "source": []
  },
  {
   "cell_type": "code",
   "execution_count": 39,
   "id": "2df100e4",
   "metadata": {},
   "outputs": [],
   "source": [
    "#10.How to transpose the following array in NumPy?"
   ]
  },
  {
   "cell_type": "code",
   "execution_count": 40,
   "id": "b72478f2",
   "metadata": {},
   "outputs": [],
   "source": [
    "A=np.array([[1,2,3,4],[5,6,7,8],[9,10,11,12]])"
   ]
  },
  {
   "cell_type": "code",
   "execution_count": 41,
   "id": "00072431",
   "metadata": {},
   "outputs": [],
   "source": [
    "A_transpose=np.transpose(A)"
   ]
  },
  {
   "cell_type": "code",
   "execution_count": 42,
   "id": "a3af8132",
   "metadata": {},
   "outputs": [
    {
     "data": {
      "text/plain": [
       "array([[ 1,  5,  9],\n",
       "       [ 2,  6, 10],\n",
       "       [ 3,  7, 11],\n",
       "       [ 4,  8, 12]])"
      ]
     },
     "execution_count": 42,
     "metadata": {},
     "output_type": "execute_result"
    }
   ],
   "source": [
    "A_transpose"
   ]
  },
  {
   "cell_type": "code",
   "execution_count": null,
   "id": "b64c972a",
   "metadata": {},
   "outputs": [],
   "source": []
  },
  {
   "cell_type": "code",
   "execution_count": 55,
   "id": "d64f442c",
   "metadata": {},
   "outputs": [],
   "source": [
    "#11.Consider the following matrix:\n",
    "A=np.array([[1,2,3],[4,5,6],[7,8,9]])\n",
    "B=np.array([[1,2,3],[4,5,6],[7,8,9]])"
   ]
  },
  {
   "cell_type": "raw",
   "id": "a706cd36",
   "metadata": {},
   "source": [
    "Index wise multiplication\n",
    "Matrix multiplication\n",
    "Add both the matrics\n",
    "Subtract matrix B from A \n",
    "Divide Matrix B by A"
   ]
  },
  {
   "cell_type": "code",
   "execution_count": 47,
   "id": "b3e1ac2f",
   "metadata": {},
   "outputs": [],
   "source": [
    "#Index wise multiplication"
   ]
  },
  {
   "cell_type": "code",
   "execution_count": 56,
   "id": "1a92cc3a",
   "metadata": {},
   "outputs": [],
   "source": [
    "index_multiply=A*B"
   ]
  },
  {
   "cell_type": "code",
   "execution_count": 57,
   "id": "52c6d742",
   "metadata": {},
   "outputs": [
    {
     "data": {
      "text/plain": [
       "array([[ 1,  4,  9],\n",
       "       [16, 25, 36],\n",
       "       [49, 64, 81]])"
      ]
     },
     "execution_count": 57,
     "metadata": {},
     "output_type": "execute_result"
    }
   ],
   "source": [
    "index_multiply"
   ]
  },
  {
   "cell_type": "code",
   "execution_count": 52,
   "id": "5006b59a",
   "metadata": {},
   "outputs": [],
   "source": [
    "##Matrix Multiplication"
   ]
  },
  {
   "cell_type": "code",
   "execution_count": 58,
   "id": "74584479",
   "metadata": {},
   "outputs": [],
   "source": [
    "matrix_multiply=A @ B"
   ]
  },
  {
   "cell_type": "code",
   "execution_count": 59,
   "id": "1ab14cfa",
   "metadata": {},
   "outputs": [
    {
     "data": {
      "text/plain": [
       "array([[ 30,  36,  42],\n",
       "       [ 66,  81,  96],\n",
       "       [102, 126, 150]])"
      ]
     },
     "execution_count": 59,
     "metadata": {},
     "output_type": "execute_result"
    }
   ],
   "source": [
    "matrix_multiply"
   ]
  },
  {
   "cell_type": "code",
   "execution_count": null,
   "id": "24dd1af7",
   "metadata": {},
   "outputs": [],
   "source": []
  },
  {
   "cell_type": "code",
   "execution_count": 60,
   "id": "7bc48f7a",
   "metadata": {},
   "outputs": [],
   "source": [
    "##Add both the matrics"
   ]
  },
  {
   "cell_type": "code",
   "execution_count": 61,
   "id": "13ce84e3",
   "metadata": {},
   "outputs": [],
   "source": [
    "add_matrics=A+B"
   ]
  },
  {
   "cell_type": "code",
   "execution_count": 62,
   "id": "db38bf89",
   "metadata": {},
   "outputs": [
    {
     "data": {
      "text/plain": [
       "array([[ 2,  4,  6],\n",
       "       [ 8, 10, 12],\n",
       "       [14, 16, 18]])"
      ]
     },
     "execution_count": 62,
     "metadata": {},
     "output_type": "execute_result"
    }
   ],
   "source": [
    "add_matrics"
   ]
  },
  {
   "cell_type": "code",
   "execution_count": 63,
   "id": "a701958c",
   "metadata": {},
   "outputs": [],
   "source": [
    "##Subtract matrix B from A "
   ]
  },
  {
   "cell_type": "code",
   "execution_count": 64,
   "id": "a92142eb",
   "metadata": {},
   "outputs": [],
   "source": [
    "subtract_matrix=B-A"
   ]
  },
  {
   "cell_type": "code",
   "execution_count": 65,
   "id": "9269ebd8",
   "metadata": {},
   "outputs": [
    {
     "data": {
      "text/plain": [
       "array([[0, 0, 0],\n",
       "       [0, 0, 0],\n",
       "       [0, 0, 0]])"
      ]
     },
     "execution_count": 65,
     "metadata": {},
     "output_type": "execute_result"
    }
   ],
   "source": [
    "subtract_matrix"
   ]
  },
  {
   "cell_type": "code",
   "execution_count": null,
   "id": "2892aa60",
   "metadata": {},
   "outputs": [],
   "source": []
  },
  {
   "cell_type": "code",
   "execution_count": 66,
   "id": "6c0ce1f5",
   "metadata": {},
   "outputs": [],
   "source": [
    "##Divide Matrix B by A"
   ]
  },
  {
   "cell_type": "code",
   "execution_count": 67,
   "id": "5ce483d3",
   "metadata": {},
   "outputs": [],
   "source": [
    "divide_matrix=B/A"
   ]
  },
  {
   "cell_type": "code",
   "execution_count": 68,
   "id": "59c02604",
   "metadata": {},
   "outputs": [
    {
     "data": {
      "text/plain": [
       "array([[1., 1., 1.],\n",
       "       [1., 1., 1.],\n",
       "       [1., 1., 1.]])"
      ]
     },
     "execution_count": 68,
     "metadata": {},
     "output_type": "execute_result"
    }
   ],
   "source": [
    "divide_matrix"
   ]
  },
  {
   "cell_type": "code",
   "execution_count": 69,
   "id": "e1fcbfed",
   "metadata": {},
   "outputs": [],
   "source": [
    "##12.Which function in Numpy can be used to swap the byte order of an array?"
   ]
  },
  {
   "cell_type": "code",
   "execution_count": null,
   "id": "7e061f3f",
   "metadata": {},
   "outputs": [],
   "source": [
    "np.ndarray.byteswap()"
   ]
  },
  {
   "cell_type": "code",
   "execution_count": null,
   "id": "5edf7c58",
   "metadata": {},
   "outputs": [],
   "source": []
  },
  {
   "cell_type": "code",
   "execution_count": 70,
   "id": "9f7b1f8e",
   "metadata": {},
   "outputs": [],
   "source": [
    "#13. What is the significance of the np.linalg.inv function?"
   ]
  },
  {
   "cell_type": "raw",
   "id": "a32a05f8",
   "metadata": {},
   "source": [
    "np.linalg.inv() is a function in NumPy used to compute the inverse of a square matrix."
   ]
  },
  {
   "cell_type": "raw",
   "id": "61687c6f",
   "metadata": {},
   "source": []
  },
  {
   "cell_type": "code",
   "execution_count": 72,
   "id": "b031e93b",
   "metadata": {},
   "outputs": [],
   "source": [
    "#14.What does the np.reshape function do, and how is it used?"
   ]
  },
  {
   "cell_type": "raw",
   "id": "5ebfd751",
   "metadata": {},
   "source": [
    "The np.reshape() function in NumPy is used to change the shape of an existing array without modifying its data. \n",
    "It allows you to reshape an array into a new shape (while keeping the same data),\n",
    "as long as the total number of elements remains the same in both the original and new shapes."
   ]
  },
  {
   "cell_type": "code",
   "execution_count": 73,
   "id": "cbe2fe7e",
   "metadata": {},
   "outputs": [],
   "source": [
    "array = np.array([1, 2, 3, 4, 5, 6, 7, 8])"
   ]
  },
  {
   "cell_type": "code",
   "execution_count": 74,
   "id": "43842fca",
   "metadata": {},
   "outputs": [],
   "source": [
    "reshaped_array = np.reshape(array, (2, 4))"
   ]
  },
  {
   "cell_type": "code",
   "execution_count": 75,
   "id": "cf1032a6",
   "metadata": {},
   "outputs": [
    {
     "data": {
      "text/plain": [
       "array([[1, 2, 3, 4],\n",
       "       [5, 6, 7, 8]])"
      ]
     },
     "execution_count": 75,
     "metadata": {},
     "output_type": "execute_result"
    }
   ],
   "source": [
    "reshaped_array"
   ]
  },
  {
   "cell_type": "code",
   "execution_count": null,
   "id": "3222bff9",
   "metadata": {},
   "outputs": [],
   "source": []
  },
  {
   "cell_type": "code",
   "execution_count": 76,
   "id": "dad4cf5c",
   "metadata": {},
   "outputs": [],
   "source": [
    "#15.What is broadcasting in Numpy?"
   ]
  },
  {
   "cell_type": "raw",
   "id": "e6e332f9",
   "metadata": {},
   "source": [
    "Broadcasting in NumPy is a powerful feature that allows NumPy to perform arithmetic operations on arrays of different shapes in a way that avoids the need for explicit looping. Broadcasting allows NumPy to automatically \"expand\" the dimensions of smaller arrays so they match the shape of larger arrays during element-wise operations."
   ]
  },
  {
   "cell_type": "code",
   "execution_count": 77,
   "id": "6707cbe2",
   "metadata": {},
   "outputs": [],
   "source": [
    "A=np.array([[1,2,3,4],[5,6,7,8],[9,10,11,12]])\n",
    "B=10"
   ]
  },
  {
   "cell_type": "code",
   "execution_count": 78,
   "id": "ecd90cac",
   "metadata": {},
   "outputs": [],
   "source": [
    "result=A+B"
   ]
  },
  {
   "cell_type": "code",
   "execution_count": 80,
   "id": "f9047154",
   "metadata": {},
   "outputs": [
    {
     "data": {
      "text/plain": [
       "array([[11, 12, 13, 14],\n",
       "       [15, 16, 17, 18],\n",
       "       [19, 20, 21, 22]])"
      ]
     },
     "execution_count": 80,
     "metadata": {},
     "output_type": "execute_result"
    }
   ],
   "source": [
    "result"
   ]
  },
  {
   "cell_type": "code",
   "execution_count": null,
   "id": "15ea5444",
   "metadata": {},
   "outputs": [],
   "source": []
  }
 ],
 "metadata": {
  "kernelspec": {
   "display_name": "Python 3 (ipykernel)",
   "language": "python",
   "name": "python3"
  },
  "language_info": {
   "codemirror_mode": {
    "name": "ipython",
    "version": 3
   },
   "file_extension": ".py",
   "mimetype": "text/x-python",
   "name": "python",
   "nbconvert_exporter": "python",
   "pygments_lexer": "ipython3",
   "version": "3.11.7"
  }
 },
 "nbformat": 4,
 "nbformat_minor": 5
}
